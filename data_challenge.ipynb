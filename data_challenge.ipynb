{
 "cells": [
  {
   "cell_type": "code",
   "execution_count": 113,
   "metadata": {},
   "outputs": [],
   "source": [
    "# Libraries\n",
    "import os\n",
    "import pandas as pd\n",
    "import re"
   ]
  },
  {
   "cell_type": "code",
   "execution_count": 114,
   "metadata": {},
   "outputs": [],
   "source": [
    "# Get the file names in each folder\n",
    "\n",
    "# Questionary A is for the undergrad students\n",
    "file_names_undergrad = os.listdir('grad_and_undergrad/datasets/undergraduate')\n",
    "\n",
    "# Questionary B is for the graduate students\n",
    "file_names_grad = os.listdir('grad_and_undergrad/datasets/graduate')\n",
    "\n",
    "# Questionary G is for the high school students\n",
    "file_names_hs =  os.listdir('high_school/datasets')"
   ]
  },
  {
   "cell_type": "markdown",
   "metadata": {},
   "source": [
    "# High School Students\n",
    "\n",
    "**Notes**\n",
    "- Files *F9117G_1920.csv*, *F9117G_2021.csv* and *F9117G_2122.csv* are pipe separated.\n",
    "- The file *F9117G_2223.csv* is comma separated and needs latin encoding. \n",
    "- Files *F9117G_1920.csv* and *F9117G_2021.csv* have two additional rows: FECHA_ENTREGA and C_OBSERVACION (The last one, not reported as a column in 'Column names')\n",
    "- In files *F9117G_1920.csv* and *F9117G_2021.csv*, some variables have no correspondence in the questionary. For instance: E3, E4, E19, E230, E258, E763, E766 and E769 (seems to be misspelled as there are no V3, V4, V19, V230, V258, V763, V766 and V769)\n",
    "- In files  *F9117G_2122.csv* and *F9117G_2223.csv*, some variables have no correspondence in the questionary. For instance: E3, E4, E19, E763, E766, E769 (seems to be misspelled as there are no V3, V4, V19, V763, V766, V769)"
   ]
  },
  {
   "cell_type": "code",
   "execution_count": 115,
   "metadata": {},
   "outputs": [],
   "source": [
    "# Initialize an empty list to store the dataframes\n",
    "list_df_hs = []\n",
    "\n",
    "# Iterate over the file names\n",
    "for file in file_names_hs:\n",
    "    # Read each file and add the year to a new column\n",
    "    year = file.split(\"_\")[1].split(\".\")[0]\n",
    "    # The file for the year 22-23 is comma separated\n",
    "    if year == '2223':\n",
    "        df = pd.read_csv(os.path.join('high_school/datasets',file), sep=',', encoding='latin-1', low_memory=False)\n",
    "        # Remove the last column \n",
    "        df = df.iloc[:, :-1]\n",
    "    else:\n",
    "        df = pd.read_csv(os.path.join('high_school/datasets', file), sep=\"|\", low_memory=False)\n",
    "    \n",
    "    # Modify columns names for consitency\n",
    "    for var in df.columns:\n",
    "        if re.match(r'^E\\d', var):\n",
    "            new_name = re.sub(r'^E', 'V', var)\n",
    "            df.rename(columns={var: new_name}, inplace=True)\n",
    "            \n",
    "    # Append the dataframe to the list\n",
    "    list_df_hs.append(df)"
   ]
  },
  {
   "cell_type": "code",
   "execution_count": 116,
   "metadata": {},
   "outputs": [
    {
     "name": "stdout",
     "output_type": "stream",
     "text": [
      "Missing variables in 2019-2020: set()\n",
      "Missing variables in 2020-2021: set()\n",
      "Missing variables in 2021-2022: {'V391', 'V221', 'V195', 'V238', 'V965', 'V951', 'V955', 'V970', 'V930', 'V923', 'V230', 'V186', 'V202', 'V275', 'V335', 'V113', 'V243', 'V184', 'V189', 'V952', 'V200', 'V217', 'V242', 'V269', 'V347', 'V926', 'V934', 'SUBSISTEMA_3', 'V244', 'V259', 'V299', 'V199', 'V957', 'V398', 'V188', 'V941', 'V216', 'V927', 'V973', 'V949', 'V931', 'V953', 'V938', 'V918', 'V107', 'V946', 'V922', 'V249', 'V38', 'V913', 'V208', 'V223', 'V732', 'V341', 'V215', 'V384', 'V211', 'V252', 'V89', 'V192', 'V950', 'V185', 'V231', 'V179', 'FECHA_ENTREGA', 'V119', 'V947', 'SUBSISTEMA_1', 'V233', 'V220', 'V245', 'V948', 'V24', 'V921', 'V932', 'V323', 'V696', 'V205', 'V210', 'V222', 'V143', 'V226', 'V377', 'V257', 'V101', 'V224', 'V209', 'V971', 'V201', 'V969', 'V237', 'V219', 'V293', 'V77', 'V232', 'V305', 'V229', 'V193', 'V258', 'V972', 'V218', 'V31', 'V750', 'V194', 'V370', 'V204', 'V708', 'V256', 'V940', 'V247', 'V190', 'V966', 'V203', 'V914', 'V182', 'V939', 'V213', 'V196', 'V198', 'V183', 'V52', 'V214', 'V311', 'V239', 'V945', 'SUBSISTEMA_2', 'V59', 'V956', 'V246', 'V920', 'V167', 'V131', 'V137', 'V919', 'V45', 'V191', 'V916', 'V929', 'V253', 'V915', 'V225', 'V65', 'V281', 'V928', 'V944', 'V968', 'V255', 'V207', 'V942', 'V937', 'V206', 'V197', 'V744', 'V248', 'V155', 'V250', 'V726', 'V83', 'V924', 'V943', 'V241', 'V234', 'V317', 'V756', 'V738', 'C_OBSERVACION', 'V212', 'V251', 'V235', 'V236', 'V161', 'V260', 'V925', 'V227', 'V720', 'V936', 'V702', 'V917', 'V714', 'V125', 'V954', 'V254', 'V329', 'V149', 'V187', 'V95', 'V240', 'V933', 'V287', 'V71', 'V967', 'V173', 'V935', 'V228', 'V261'}\n",
      "Missing variables in 2022-2023: {'FECHA_ENTREGA', 'C_OBSERVACION'}\n"
     ]
    }
   ],
   "source": [
    "# Check for variable consistency\n",
    "\n",
    "# Create a dictionary to store the column names for each dataframe\n",
    "df_names_hs = {}\n",
    "\n",
    "for i in range(len(list_df_hs)):\n",
    "    df_names_hs[file_names_hs[i]] = list(list_df_hs[i].columns)\n",
    "\n",
    "# Create a list of unique variables \n",
    "variables_hs = set().union(*df_names_hs.values())\n",
    "\n",
    "# Diffence between all variables and the variables in the dataframes\n",
    "missing_vars_1920 = variables_hs.difference(df_names_hs['F9117G_1920.csv'])\n",
    "missing_vars_2021 = variables_hs.difference(df_names_hs['F9117G_2021.csv'])\n",
    "missing_vars_2122 = variables_hs.difference(df_names_hs['F9117G_2122.csv'])\n",
    "missing_vars_2223 = variables_hs.difference(df_names_hs['F9117G_2223.csv'])\n",
    "\n",
    "# Print the results\n",
    "print(f\"Missing variables in 2019-2020: {missing_vars_1920}\")\n",
    "print(f\"Missing variables in 2020-2021: {missing_vars_2021}\")\n",
    "print(f\"Missing variables in 2021-2022: {missing_vars_2122}\")   \n",
    "print(f\"Missing variables in 2022-2023: {missing_vars_2223}\")"
   ]
  },
  {
   "cell_type": "markdown",
   "metadata": {},
   "source": [
    "**Addtional Notes:** \n",
    "- The variables *C_OBSERVACION* and *FECHA_ENTREGA* is only in files 'KI9119A_1920.csv' and 'KI9119A_2021.csv'.\n",
    "- In file 'F9117G_2122.csv' some variables are missing. For example: *V24*, *V32*, *V38*, etc.\n",
    "- The file 'F9117G_2223.csv' have an extra unamed empty column (the last one). "
   ]
  },
  {
   "cell_type": "markdown",
   "metadata": {},
   "source": [
    "# Undergraduate Students"
   ]
  },
  {
   "cell_type": "code",
   "execution_count": 117,
   "metadata": {},
   "outputs": [],
   "source": [
    "# Initialize an empty list to store the dataframes\n",
    "list_df_undergrad = []\n",
    "\n",
    "# Iterate over the file names\n",
    "for file in file_names_undergrad:\n",
    "    # Read each file and add the year to a new column\n",
    "    year = file.split(\"_\")[1].split(\".\")[0]\n",
    "    # The file for the year 22-23 is comma separated\n",
    "    if year == '2223':\n",
    "        df = pd.read_csv(os.path.join('grad_and_undergrad/datasets/undergraduate', file), sep=',', encoding='latin-1', low_memory=False)\n",
    "    else:\n",
    "        df = pd.read_csv(os.path.join('grad_and_undergrad/datasets/undergraduate', file), sep=\"|\", low_memory=False)\n",
    "            \n",
    "    # Append the dataframe to the list\n",
    "    list_df_undergrad.append(df)\n"
   ]
  },
  {
   "cell_type": "code",
   "execution_count": 120,
   "metadata": {},
   "outputs": [
    {
     "name": "stdout",
     "output_type": "stream",
     "text": [
      "Missing variables in 2019-2020: {'V734', 'C_OBSERVACION'}\n",
      "Missing variables in 2020-2021: {'F593', 'V734'}\n",
      "Missing variables in 2021-2022: {'V321', 'V166', 'V330', 'V91', 'V455', 'V172', 'V336', 'V341', 'V332', 'V322', 'V86', 'V335', 'V327', 'V456', 'FECHA_ENTREGA', 'V312', 'V337', 'V319', 'V331', 'V325', 'V333', 'SUBSISTEMA_1', 'V457', 'V317', 'V334', 'V324', 'C_OBSERVACION', 'V315', 'V328', 'V311', 'SUBSISTEMA_3', 'V24', 'V316', 'V323', 'V318', 'V320', 'V326', 'F593', 'V160', 'SUBSISTEMA_2', 'V329', 'V734', 'V454', 'V154', 'V29', 'V178', 'V142', 'V314', 'V148', 'V313'}\n",
      "Missing variables in 2022-2023: {'V456', 'V454', 'FECHA_ENTREGA', 'V455', 'V2', 'V457', 'F593', 'C_OBSERVACION'}\n"
     ]
    }
   ],
   "source": [
    "# Create a dictionary to store the column names for each dataframe\n",
    "df_names_undergrad = {}\n",
    "\n",
    "for i in range(len(list_df_undergrad)):\n",
    "    df_names_undergrad[file_names_undergrad[i]] = list(list_df_undergrad[i].columns)\n",
    "\n",
    "# Create a list of unique variables \n",
    "variables_undergrad = set().union(*df_names_undergrad.values())\n",
    "\n",
    "# Diffence between all variables and the variables in the dataframes\n",
    "missing_vars_1920 = variables_undergrad.difference(df_names_undergrad['KI9119A_1920.csv'])\n",
    "missing_vars_2021 = variables_undergrad.difference(df_names_undergrad['KI9119A_2021.csv'])\n",
    "missing_vars_2122 = variables_undergrad.difference(df_names_undergrad['KI9119A_2122.csv'])\n",
    "missing_vars_2223 = variables_undergrad.difference(df_names_undergrad['KI9119A_2223.csv'])\n",
    "\n",
    "# Print the missing variables\n",
    "print(f\"Missing variables in 2019-2020: {missing_vars_1920}\")\n",
    "print(f\"Missing variables in 2020-2021: {missing_vars_2021}\")\n",
    "print(f\"Missing variables in 2021-2022: {missing_vars_2122}\")   \n",
    "print(f\"Missing variables in 2022-2023: {missing_vars_2223}\")\n"
   ]
  },
  {
   "cell_type": "markdown",
   "metadata": {},
   "source": [
    "**Additional Notes**\n",
    "- The variable *F593* is only in file 'KI9119A_1920.csv'.\n",
    "- The variable *C_OBSERVACION* is only in file 'KI9119A_2021.csv'.\n",
    "- The variable *FECHA_ENTREGA* is only in files 'KI9119A_1920.csv' and 'KI9119A_2021.csv'.\n",
    "- The file 'KI9119A_2122.csv' have multiple missing variables. For instance: *SUBSISTEMA_1*, *SUBSISTEMA_1*, *SUBSISTEMA_1*, etc.\n",
    "- The variable *V734* is only in file 'KI9119A_2223.csv'.\n",
    "- The file 'KI9119A_2223.csv' have multiple missing variables. For instance: *V2*, *V454*, *V455*, etc."
   ]
  },
  {
   "cell_type": "code",
   "execution_count": null,
   "metadata": {},
   "outputs": [],
   "source": []
  },
  {
   "cell_type": "code",
   "execution_count": 119,
   "metadata": {},
   "outputs": [
    {
     "data": {
      "text/plain": [
       "['KI9119A_2122.csv',\n",
       " 'KI9119A_2021.csv',\n",
       " 'KI9119A_2223.csv',\n",
       " 'KI9119A_1920.csv']"
      ]
     },
     "execution_count": 119,
     "metadata": {},
     "output_type": "execute_result"
    }
   ],
   "source": [
    "file_names_undergrad"
   ]
  },
  {
   "cell_type": "markdown",
   "metadata": {},
   "source": [
    "Graduate Students"
   ]
  }
 ],
 "metadata": {
  "kernelspec": {
   "display_name": "base",
   "language": "python",
   "name": "python3"
  },
  "language_info": {
   "codemirror_mode": {
    "name": "ipython",
    "version": 3
   },
   "file_extension": ".py",
   "mimetype": "text/x-python",
   "name": "python",
   "nbconvert_exporter": "python",
   "pygments_lexer": "ipython3",
   "version": "3.9.12"
  }
 },
 "nbformat": 4,
 "nbformat_minor": 2
}
