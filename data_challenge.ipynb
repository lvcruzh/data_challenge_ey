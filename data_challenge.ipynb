{
 "cells": [
  {
   "cell_type": "code",
   "execution_count": 2,
   "metadata": {},
   "outputs": [],
   "source": [
    "# Libraries\n",
    "import os\n",
    "import pandas as pd"
   ]
  },
  {
   "cell_type": "code",
   "execution_count": 3,
   "metadata": {},
   "outputs": [],
   "source": [
    "# Get the file names in each folder\n",
    "\n",
    "# Questionary A is for the undergrad students\n",
    "file_names_undergrad = os.listdir('grad_and_undergrad/datasets/undergraduate')\n",
    "\n",
    "# Questionary B is for the graduate students\n",
    "file_names_grad = os.listdir('grad_and_undergrad/datasets/graduate')\n",
    "\n",
    "# Questionary G is for the high school students\n",
    "file_names_hs =  os.listdir('high_school/datasets')"
   ]
  },
  {
   "cell_type": "markdown",
   "metadata": {},
   "source": [
    "High School Students"
   ]
  },
  {
   "cell_type": "code",
   "execution_count": 46,
   "metadata": {},
   "outputs": [],
   "source": [
    "# Initialize an empty list to store the dataframes\n",
    "list_df_hs = []\n",
    "\n",
    "# Iterate over the file names\n",
    "for file in file_names_hs:\n",
    "    # Read each file and add the year to a new column\n",
    "    year = file.split(\"_\")[1].split(\".\")[0]\n",
    "    # The file for the year 22-23 is comma separated\n",
    "    if year == '2223':\n",
    "        df = pd.read_csv(os.path.join('high_school/datasets',file), sep=',', encoding='latin-1', low_memory=False)\n",
    "    else:\n",
    "        df = pd.read_csv(os.path.join('high_school/datasets', file), sep=\"|\", low_memory=False)\n",
    "\n",
    "    # Add the year to the dataframe\n",
    "    df[\"academic_year\"] = year\n",
    "    \n",
    "    # Append the dataframe to the list\n",
    "    list_df_hs.append(df)"
   ]
  },
  {
   "cell_type": "markdown",
   "metadata": {},
   "source": [
    "Undergraduate Students"
   ]
  },
  {
   "cell_type": "markdown",
   "metadata": {},
   "source": [
    "Graduate Students"
   ]
  }
 ],
 "metadata": {
  "kernelspec": {
   "display_name": "base",
   "language": "python",
   "name": "python3"
  },
  "language_info": {
   "codemirror_mode": {
    "name": "ipython",
    "version": 3
   },
   "file_extension": ".py",
   "mimetype": "text/x-python",
   "name": "python",
   "nbconvert_exporter": "python",
   "pygments_lexer": "ipython3",
   "version": "3.9.12"
  }
 },
 "nbformat": 4,
 "nbformat_minor": 2
}
